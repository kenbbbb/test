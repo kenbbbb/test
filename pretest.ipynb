{
 "cells": [
  {
   "cell_type": "code",
   "execution_count": 6,
   "metadata": {},
   "outputs": [],
   "source": [
    "import pandas as pd\n",
    "\n",
    "# 讀取Excel檔案\n",
    "file_path = r'C:\\Users\\SW261\\Desktop\\中文諷刺語料庫.xlsx'  \n",
    "data = pd.read_excel(r\"C:\\Users\\SW261\\Desktop\\中文諷刺語料庫\\反諷語料庫.xlsx\")"
   ]
  },
  {
   "cell_type": "markdown",
   "metadata": {},
   "source": [
    "斷詞處理"
   ]
  },
  {
   "cell_type": "code",
   "execution_count": 27,
   "metadata": {},
   "outputs": [
    {
     "name": "stderr",
     "output_type": "stream",
     "text": [
      "Building prefix dict from D:\\Anaconda\\pkgs\\jieba-0.42.1\\jieba\\dict.txt ...\n",
      "Dumping model to file cache C:\\Users\\SW261\\AppData\\Local\\Temp\\jieba.uf65edacd76dcea4990d555daec3540e0.cache\n",
      "Loading model cost 1.315 seconds.\n",
      "Prefix dict has been built successfully.\n"
     ]
    }
   ],
   "source": [
    "import jieba\n",
    "\n",
    "# 確保jieba使用繁體中文詞庫\n",
    "jieba.set_dictionary(r'D:\\Anaconda\\pkgs\\jieba-0.42.1\\jieba\\dict.txt')\n",
    "\n",
    "# 進行斷詞\n",
    "data['segmented'] = data['data'].apply(lambda x: ' '.join(jieba.cut(x)))\n"
   ]
  },
  {
   "cell_type": "markdown",
   "metadata": {},
   "source": [
    "資料清洗"
   ]
  },
  {
   "cell_type": "code",
   "execution_count": 28,
   "metadata": {},
   "outputs": [],
   "source": [
    "# 假設你有一個停用詞列表\n",
    "stopwords = set(['的', '了', '在', '是', '我', '有', '和', '就', '不', '人', '都', '一', '一個', '上', '也', '很', '到', '說', '要', '你', '會', '沒', '看', '去', '好', '這'])\n",
    "\n",
    "# 去除停用詞\n",
    "data['cleaned'] = data['segmented'].apply(lambda x: ' '.join(word for word in x.split() if word not in stopwords))\n"
   ]
  },
  {
   "cell_type": "markdown",
   "metadata": {},
   "source": [
    "資料轉換"
   ]
  },
  {
   "cell_type": "code",
   "execution_count": 39,
   "metadata": {},
   "outputs": [],
   "source": [
    "from sklearn.feature_extraction.text import TfidfVectorizer\n",
    "\n",
    "# 使用TF-IDF向量化\n",
    "vectorizer = TfidfVectorizer(max_features=5000)  # 調整特徵數量\n",
    "X = vectorizer.fit_transform(data['cleaned'])"
   ]
  },
  {
   "cell_type": "markdown",
   "metadata": {},
   "source": []
  }
 ],
 "metadata": {
  "kernelspec": {
   "display_name": "Python 3",
   "language": "python",
   "name": "python3"
  },
  "language_info": {
   "codemirror_mode": {
    "name": "ipython",
    "version": 3
   },
   "file_extension": ".py",
   "mimetype": "text/x-python",
   "name": "python",
   "nbconvert_exporter": "python",
   "pygments_lexer": "ipython3",
   "version": "3.12.0"
  }
 },
 "nbformat": 4,
 "nbformat_minor": 2
}
